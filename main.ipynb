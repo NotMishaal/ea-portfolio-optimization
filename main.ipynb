{
 "cells": [
  {
   "cell_type": "markdown",
   "metadata": {},
   "source": [
    "# <center>Financial Portfolio Optimization</center>"
   ]
  },
  {
   "cell_type": "code",
   "execution_count": 1,
   "metadata": {},
   "outputs": [],
   "source": [
    "from ml import data_preprocessing as dp\n",
    "from ml import forecasting as fc"
   ]
  },
  {
   "cell_type": "code",
   "execution_count": null,
   "metadata": {},
   "outputs": [],
   "source": [
    "from ga import cov_ga as cga\n",
    "import matplotlib.pyplot as plt\n"
   ]
  },
  {
   "cell_type": "code",
   "execution_count": 2,
   "metadata": {},
   "outputs": [
    {
     "data": {
      "text/plain": [
       "<module 'ml.data_preprocessing' from 'd:\\\\University\\\\4th Year\\\\CM4601 Computational Intelligence\\\\ea-portfolio-optimization\\\\ml\\\\data_preprocessing.py'>"
      ]
     },
     "execution_count": 2,
     "metadata": {},
     "output_type": "execute_result"
    }
   ],
   "source": [
    "import importlib\n",
    "importlib.reload(dp)"
   ]
  },
  {
   "cell_type": "code",
   "execution_count": 3,
   "metadata": {},
   "outputs": [],
   "source": [
    "selected_symbols = ['AAPL', 'MSFT', 'GOOGL', 'AMZN', 'JPM']"
   ]
  },
  {
   "cell_type": "code",
   "execution_count": 13,
   "metadata": {},
   "outputs": [
    {
     "name": "stderr",
     "output_type": "stream",
     "text": [
      "d:\\University\\4th Year\\CM4601 Computational Intelligence\\ea-portfolio-optimization\\ml\\data_preprocessing.py:19: FutureWarning: DataFrame.fillna with 'method' is deprecated and will raise in a future version. Use obj.ffill() or obj.bfill() instead.\n",
      "  df_pivoted = df_pivoted.fillna(method='ffill').dropna()\n"
     ]
    }
   ],
   "source": [
    "df = dp.load_data(\"data/prices.csv\", selected_symbols)\n",
    "returns = dp.compute_returns(df)\n",
    "norm_returns = dp.normalize_returns(returns)"
   ]
  },
  {
   "cell_type": "code",
   "execution_count": 14,
   "metadata": {},
   "outputs": [
    {
     "name": "stderr",
     "output_type": "stream",
     "text": [
      "c:\\Users\\misha\\anaconda3\\envs\\portfolio_optimization\\lib\\site-packages\\statsmodels\\tsa\\base\\tsa_model.py:473: ValueWarning: A date index has been provided, but it has no associated frequency information and so will be ignored when e.g. forecasting.\n",
      "  self._init_dates(dates, freq)\n",
      "c:\\Users\\misha\\anaconda3\\envs\\portfolio_optimization\\lib\\site-packages\\statsmodels\\tsa\\base\\tsa_model.py:473: ValueWarning: A date index has been provided, but it has no associated frequency information and so will be ignored when e.g. forecasting.\n",
      "  self._init_dates(dates, freq)\n",
      "c:\\Users\\misha\\anaconda3\\envs\\portfolio_optimization\\lib\\site-packages\\statsmodels\\tsa\\base\\tsa_model.py:473: ValueWarning: A date index has been provided, but it has no associated frequency information and so will be ignored when e.g. forecasting.\n",
      "  self._init_dates(dates, freq)\n",
      "c:\\Users\\misha\\anaconda3\\envs\\portfolio_optimization\\lib\\site-packages\\statsmodels\\tsa\\base\\tsa_model.py:837: ValueWarning: No supported index is available. Prediction results will be given with an integer index beginning at `start`.\n",
      "  return get_prediction_index(\n",
      "c:\\Users\\misha\\anaconda3\\envs\\portfolio_optimization\\lib\\site-packages\\statsmodels\\tsa\\base\\tsa_model.py:837: FutureWarning: No supported index is available. In the next version, calling this method in a model without a supported index will result in an exception.\n",
      "  return get_prediction_index(\n",
      "c:\\Users\\misha\\anaconda3\\envs\\portfolio_optimization\\lib\\site-packages\\statsmodels\\tsa\\base\\tsa_model.py:473: ValueWarning: A date index has been provided, but it has no associated frequency information and so will be ignored when e.g. forecasting.\n",
      "  self._init_dates(dates, freq)\n",
      "c:\\Users\\misha\\anaconda3\\envs\\portfolio_optimization\\lib\\site-packages\\statsmodels\\tsa\\base\\tsa_model.py:473: ValueWarning: A date index has been provided, but it has no associated frequency information and so will be ignored when e.g. forecasting.\n",
      "  self._init_dates(dates, freq)\n",
      "c:\\Users\\misha\\anaconda3\\envs\\portfolio_optimization\\lib\\site-packages\\statsmodels\\tsa\\base\\tsa_model.py:473: ValueWarning: A date index has been provided, but it has no associated frequency information and so will be ignored when e.g. forecasting.\n",
      "  self._init_dates(dates, freq)\n",
      "c:\\Users\\misha\\anaconda3\\envs\\portfolio_optimization\\lib\\site-packages\\statsmodels\\tsa\\base\\tsa_model.py:837: ValueWarning: No supported index is available. Prediction results will be given with an integer index beginning at `start`.\n",
      "  return get_prediction_index(\n",
      "c:\\Users\\misha\\anaconda3\\envs\\portfolio_optimization\\lib\\site-packages\\statsmodels\\tsa\\base\\tsa_model.py:837: FutureWarning: No supported index is available. In the next version, calling this method in a model without a supported index will result in an exception.\n",
      "  return get_prediction_index(\n",
      "c:\\Users\\misha\\anaconda3\\envs\\portfolio_optimization\\lib\\site-packages\\statsmodels\\tsa\\base\\tsa_model.py:473: ValueWarning: A date index has been provided, but it has no associated frequency information and so will be ignored when e.g. forecasting.\n",
      "  self._init_dates(dates, freq)\n",
      "c:\\Users\\misha\\anaconda3\\envs\\portfolio_optimization\\lib\\site-packages\\statsmodels\\tsa\\base\\tsa_model.py:473: ValueWarning: A date index has been provided, but it has no associated frequency information and so will be ignored when e.g. forecasting.\n",
      "  self._init_dates(dates, freq)\n",
      "c:\\Users\\misha\\anaconda3\\envs\\portfolio_optimization\\lib\\site-packages\\statsmodels\\tsa\\base\\tsa_model.py:473: ValueWarning: A date index has been provided, but it has no associated frequency information and so will be ignored when e.g. forecasting.\n",
      "  self._init_dates(dates, freq)\n",
      "c:\\Users\\misha\\anaconda3\\envs\\portfolio_optimization\\lib\\site-packages\\statsmodels\\tsa\\base\\tsa_model.py:837: ValueWarning: No supported index is available. Prediction results will be given with an integer index beginning at `start`.\n",
      "  return get_prediction_index(\n",
      "c:\\Users\\misha\\anaconda3\\envs\\portfolio_optimization\\lib\\site-packages\\statsmodels\\tsa\\base\\tsa_model.py:837: FutureWarning: No supported index is available. In the next version, calling this method in a model without a supported index will result in an exception.\n",
      "  return get_prediction_index(\n",
      "c:\\Users\\misha\\anaconda3\\envs\\portfolio_optimization\\lib\\site-packages\\statsmodels\\tsa\\base\\tsa_model.py:473: ValueWarning: A date index has been provided, but it has no associated frequency information and so will be ignored when e.g. forecasting.\n",
      "  self._init_dates(dates, freq)\n",
      "c:\\Users\\misha\\anaconda3\\envs\\portfolio_optimization\\lib\\site-packages\\statsmodels\\tsa\\base\\tsa_model.py:473: ValueWarning: A date index has been provided, but it has no associated frequency information and so will be ignored when e.g. forecasting.\n",
      "  self._init_dates(dates, freq)\n",
      "c:\\Users\\misha\\anaconda3\\envs\\portfolio_optimization\\lib\\site-packages\\statsmodels\\tsa\\base\\tsa_model.py:473: ValueWarning: A date index has been provided, but it has no associated frequency information and so will be ignored when e.g. forecasting.\n",
      "  self._init_dates(dates, freq)\n",
      "c:\\Users\\misha\\anaconda3\\envs\\portfolio_optimization\\lib\\site-packages\\statsmodels\\tsa\\base\\tsa_model.py:837: ValueWarning: No supported index is available. Prediction results will be given with an integer index beginning at `start`.\n",
      "  return get_prediction_index(\n",
      "c:\\Users\\misha\\anaconda3\\envs\\portfolio_optimization\\lib\\site-packages\\statsmodels\\tsa\\base\\tsa_model.py:837: FutureWarning: No supported index is available. In the next version, calling this method in a model without a supported index will result in an exception.\n",
      "  return get_prediction_index(\n",
      "c:\\Users\\misha\\anaconda3\\envs\\portfolio_optimization\\lib\\site-packages\\statsmodels\\tsa\\base\\tsa_model.py:473: ValueWarning: A date index has been provided, but it has no associated frequency information and so will be ignored when e.g. forecasting.\n",
      "  self._init_dates(dates, freq)\n",
      "c:\\Users\\misha\\anaconda3\\envs\\portfolio_optimization\\lib\\site-packages\\statsmodels\\tsa\\base\\tsa_model.py:473: ValueWarning: A date index has been provided, but it has no associated frequency information and so will be ignored when e.g. forecasting.\n",
      "  self._init_dates(dates, freq)\n",
      "c:\\Users\\misha\\anaconda3\\envs\\portfolio_optimization\\lib\\site-packages\\statsmodels\\tsa\\base\\tsa_model.py:473: ValueWarning: A date index has been provided, but it has no associated frequency information and so will be ignored when e.g. forecasting.\n",
      "  self._init_dates(dates, freq)\n",
      "c:\\Users\\misha\\anaconda3\\envs\\portfolio_optimization\\lib\\site-packages\\statsmodels\\tsa\\base\\tsa_model.py:837: ValueWarning: No supported index is available. Prediction results will be given with an integer index beginning at `start`.\n",
      "  return get_prediction_index(\n",
      "c:\\Users\\misha\\anaconda3\\envs\\portfolio_optimization\\lib\\site-packages\\statsmodels\\tsa\\base\\tsa_model.py:837: FutureWarning: No supported index is available. In the next version, calling this method in a model without a supported index will result in an exception.\n",
      "  return get_prediction_index(\n"
     ]
    }
   ],
   "source": [
    "expected_returns = fc.forecast_returns_arima(norm_returns, forecast_horizon=1)\n",
    "cov_matrix = fc.compute_covariance_matrix(norm_returns)"
   ]
  },
  {
   "cell_type": "code",
   "execution_count": 15,
   "metadata": {},
   "outputs": [],
   "source": [
    "ga = cga.GeneticOptimizer(\n",
    "    pop_size=50,\n",
    "    ngen=20, \n",
    "    tourn_size=3, \n",
    "    cxpb=0.7, \n",
    "    mutpb=0.2, \n",
    "    mut_step=0.05, \n",
    "    risk_free_rate=0.0\n",
    "    )"
   ]
  },
  {
   "cell_type": "code",
   "execution_count": 16,
   "metadata": {},
   "outputs": [
    {
     "name": "stdout",
     "output_type": "stream",
     "text": [
      "Best Fitness (Sharpe): 0.0021924244292601583\n",
      "Best Portfolio Allocation:\n",
      "AAPL: 0.3940\n",
      "AMZN: 0.3900\n",
      "GOOGL: 0.0045\n",
      "JPM: 0.0567\n",
      "MSFT: 0.1548\n",
      "Best Fitness (Sharpe): 0.0049964489955475686\n",
      "Best Portfolio Allocation:\n",
      "AAPL: 0.1888\n",
      "AMZN: 0.5893\n",
      "GOOGL: 0.0012\n",
      "JPM: 0.1050\n",
      "MSFT: 0.1157\n",
      "Best Fitness (Sharpe): 0.0049964489955475686\n",
      "Best Portfolio Allocation:\n",
      "AAPL: 0.1888\n",
      "AMZN: 0.5893\n",
      "GOOGL: 0.0012\n",
      "JPM: 0.1050\n",
      "MSFT: 0.1157\n",
      "Best Fitness (Sharpe): 0.0049964489955475686\n",
      "Best Portfolio Allocation:\n",
      "AAPL: 0.1888\n",
      "AMZN: 0.5893\n",
      "GOOGL: 0.0012\n",
      "JPM: 0.1050\n",
      "MSFT: 0.1157\n",
      "Best Fitness (Sharpe): 0.0049964489955475686\n",
      "Best Portfolio Allocation:\n",
      "AAPL: 0.1888\n",
      "AMZN: 0.5893\n",
      "GOOGL: 0.0012\n",
      "JPM: 0.1050\n",
      "MSFT: 0.1157\n",
      "Best Fitness (Sharpe): 0.0049964489955475686\n",
      "Best Portfolio Allocation:\n",
      "AAPL: 0.1888\n",
      "AMZN: 0.5893\n",
      "GOOGL: 0.0012\n",
      "JPM: 0.1050\n",
      "MSFT: 0.1157\n",
      "Best Fitness (Sharpe): 0.0049964489955475686\n",
      "Best Portfolio Allocation:\n",
      "AAPL: 0.1888\n",
      "AMZN: 0.5893\n",
      "GOOGL: 0.0012\n",
      "JPM: 0.1050\n",
      "MSFT: 0.1157\n",
      "Best Fitness (Sharpe): 0.005527577814993893\n",
      "Best Portfolio Allocation:\n",
      "AAPL: 0.2211\n",
      "AMZN: 0.5792\n",
      "GOOGL: 0.0091\n",
      "JPM: 0.0531\n",
      "MSFT: 0.1375\n",
      "Best Fitness (Sharpe): 0.006014085699962368\n",
      "Best Portfolio Allocation:\n",
      "AAPL: 0.2062\n",
      "AMZN: 0.5998\n",
      "GOOGL: 0.0009\n",
      "JPM: 0.0613\n",
      "MSFT: 0.1317\n",
      "Best Fitness (Sharpe): 0.006895956986629021\n",
      "Best Portfolio Allocation:\n",
      "AAPL: 0.2170\n",
      "AMZN: 0.6145\n",
      "GOOGL: 0.0060\n",
      "JPM: 0.0156\n",
      "MSFT: 0.1469\n",
      "Best Fitness (Sharpe): 0.006895956986629021\n",
      "Best Portfolio Allocation:\n",
      "AAPL: 0.2170\n",
      "AMZN: 0.6145\n",
      "GOOGL: 0.0060\n",
      "JPM: 0.0156\n",
      "MSFT: 0.1469\n",
      "Best Fitness (Sharpe): 0.00736773533183126\n",
      "Best Portfolio Allocation:\n",
      "AAPL: 0.2137\n",
      "AMZN: 0.6348\n",
      "GOOGL: 0.0099\n",
      "JPM: 0.0000\n",
      "MSFT: 0.1415\n",
      "Best Fitness (Sharpe): 0.007598304960270301\n",
      "Best Portfolio Allocation:\n",
      "AAPL: 0.2151\n",
      "AMZN: 0.6354\n",
      "GOOGL: 0.0030\n",
      "JPM: 0.0008\n",
      "MSFT: 0.1457\n",
      "Best Fitness (Sharpe): 0.007847541667336238\n",
      "Best Portfolio Allocation:\n",
      "AAPL: 0.2316\n",
      "AMZN: 0.6389\n",
      "GOOGL: 0.0000\n",
      "JPM: 0.0000\n",
      "MSFT: 0.1295\n",
      "Best Fitness (Sharpe): 0.008249834545730535\n",
      "Best Portfolio Allocation:\n",
      "AAPL: 0.1913\n",
      "AMZN: 0.6724\n",
      "GOOGL: 0.0000\n",
      "JPM: 0.0000\n",
      "MSFT: 0.1363\n",
      "Best Fitness (Sharpe): 0.008403768103356834\n",
      "Best Portfolio Allocation:\n",
      "AAPL: 0.1636\n",
      "AMZN: 0.6926\n",
      "GOOGL: 0.0003\n",
      "JPM: 0.0029\n",
      "MSFT: 0.1405\n",
      "Best Fitness (Sharpe): 0.008727072978482856\n",
      "Best Portfolio Allocation:\n",
      "AAPL: 0.1629\n",
      "AMZN: 0.7094\n",
      "GOOGL: 0.0001\n",
      "JPM: 0.0000\n",
      "MSFT: 0.1275\n",
      "Best Fitness (Sharpe): 0.008882359103178522\n",
      "Best Portfolio Allocation:\n",
      "AAPL: 0.1386\n",
      "AMZN: 0.7271\n",
      "GOOGL: 0.0002\n",
      "JPM: 0.0000\n",
      "MSFT: 0.1341\n",
      "Best Fitness (Sharpe): 0.00903447347199719\n",
      "Best Portfolio Allocation:\n",
      "AAPL: 0.1261\n",
      "AMZN: 0.7411\n",
      "GOOGL: 0.0004\n",
      "JPM: 0.0000\n",
      "MSFT: 0.1325\n",
      "Best Fitness (Sharpe): 0.009342402520915893\n",
      "Best Portfolio Allocation:\n",
      "AAPL: 0.1442\n",
      "AMZN: 0.7541\n",
      "GOOGL: 0.0000\n",
      "JPM: 0.0000\n",
      "MSFT: 0.1017\n"
     ]
    }
   ],
   "source": [
    "best_ind, best_fit, best_fits = ga.run(expected_returns, cov_matrix)"
   ]
  },
  {
   "cell_type": "code",
   "execution_count": 18,
   "metadata": {},
   "outputs": [
    {
     "data": {
      "image/png": "[encoded data removed]",
      "text/plain": [
       "<Figure size 640x480 with 1 Axes>"
      ]
     },
     "metadata": {},
     "output_type": "display_data"
    }
   ],
   "source": [
    "plt.plot(best_fits)\n",
    "plt.title('Best Fitness (Sharpe) over Generations')\n",
    "plt.xlabel('Generation')\n",
    "plt.ylabel('Sharpe Ratio')\n",
    "plt.show()"
   ]
  }
 ],
 "metadata": {
  "kernelspec": {
   "display_name": "portfolio_optimization",
   "language": "python",
   "name": "python3"
  },
  "language_info": {
   "codemirror_mode": {
    "name": "ipython",
    "version": 3
   },
   "file_extension": ".py",
   "mimetype": "text/x-python",
   "name": "python",
   "nbconvert_exporter": "python",
   "pygments_lexer": "ipython3",
   "version": "3.10.16"
  }
 },
 "nbformat": 4,
 "nbformat_minor": 2
}
