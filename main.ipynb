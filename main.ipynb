{
 "cells": [
  {
   "cell_type": "markdown",
   "metadata": {},
   "source": [
    "# <center>Financial Portfolio Optimization</center>"
   ]
  },
  {
   "cell_type": "code",
   "execution_count": 48,
   "metadata": {},
   "outputs": [],
   "source": [
    "from ml import data_preprocessing as dp\n",
    "from ml import forecasting as fc\n",
    "from ga import cov_ga as cga\n",
    "import matplotlib.pyplot as plt\n",
    "import numpy as np\n",
    "import pandas as pd\n",
    "import importlib"
   ]
  },
  {
   "cell_type": "code",
   "execution_count": 40,
   "metadata": {},
   "outputs": [],
   "source": [
    "selected_symbols = ['AAPL', 'MSFT', 'GOOGL', 'AMZN', 'JPM']"
   ]
  },
  {
   "cell_type": "code",
   "execution_count": 41,
   "metadata": {},
   "outputs": [
    {
     "name": "stderr",
     "output_type": "stream",
     "text": [
      "d:\\University\\4th Year\\CM4601 Computational Intelligence\\ea-portfolio-optimization\\ml\\data_preprocessing.py:19: FutureWarning: DataFrame.fillna with 'method' is deprecated and will raise in a future version. Use obj.ffill() or obj.bfill() instead.\n",
      "  df_pivoted = df_pivoted.fillna(method='ffill').dropna()\n"
     ]
    }
   ],
   "source": [
    "df = dp.load_data(\"data/prices.csv\", selected_symbols)\n",
    "returns = dp.compute_returns(df)\n",
    "norm_returns = dp.normalize_returns(returns)"
   ]
  },
  {
   "cell_type": "code",
   "execution_count": 42,
   "metadata": {},
   "outputs": [
    {
     "name": "stderr",
     "output_type": "stream",
     "text": [
      "c:\\Users\\misha\\anaconda3\\envs\\portfolio_optimization\\lib\\site-packages\\statsmodels\\tsa\\base\\tsa_model.py:473: ValueWarning: A date index has been provided, but it has no associated frequency information and so will be ignored when e.g. forecasting.\n",
      "  self._init_dates(dates, freq)\n",
      "c:\\Users\\misha\\anaconda3\\envs\\portfolio_optimization\\lib\\site-packages\\statsmodels\\tsa\\base\\tsa_model.py:473: ValueWarning: A date index has been provided, but it has no associated frequency information and so will be ignored when e.g. forecasting.\n",
      "  self._init_dates(dates, freq)\n",
      "c:\\Users\\misha\\anaconda3\\envs\\portfolio_optimization\\lib\\site-packages\\statsmodels\\tsa\\base\\tsa_model.py:473: ValueWarning: A date index has been provided, but it has no associated frequency information and so will be ignored when e.g. forecasting.\n",
      "  self._init_dates(dates, freq)\n",
      "c:\\Users\\misha\\anaconda3\\envs\\portfolio_optimization\\lib\\site-packages\\statsmodels\\tsa\\base\\tsa_model.py:837: ValueWarning: No supported index is available. Prediction results will be given with an integer index beginning at `start`.\n",
      "  return get_prediction_index(\n",
      "c:\\Users\\misha\\anaconda3\\envs\\portfolio_optimization\\lib\\site-packages\\statsmodels\\tsa\\base\\tsa_model.py:837: FutureWarning: No supported index is available. In the next version, calling this method in a model without a supported index will result in an exception.\n",
      "  return get_prediction_index(\n",
      "c:\\Users\\misha\\anaconda3\\envs\\portfolio_optimization\\lib\\site-packages\\statsmodels\\tsa\\base\\tsa_model.py:473: ValueWarning: A date index has been provided, but it has no associated frequency information and so will be ignored when e.g. forecasting.\n",
      "  self._init_dates(dates, freq)\n",
      "c:\\Users\\misha\\anaconda3\\envs\\portfolio_optimization\\lib\\site-packages\\statsmodels\\tsa\\base\\tsa_model.py:473: ValueWarning: A date index has been provided, but it has no associated frequency information and so will be ignored when e.g. forecasting.\n",
      "  self._init_dates(dates, freq)\n",
      "c:\\Users\\misha\\anaconda3\\envs\\portfolio_optimization\\lib\\site-packages\\statsmodels\\tsa\\base\\tsa_model.py:473: ValueWarning: A date index has been provided, but it has no associated frequency information and so will be ignored when e.g. forecasting.\n",
      "  self._init_dates(dates, freq)\n",
      "c:\\Users\\misha\\anaconda3\\envs\\portfolio_optimization\\lib\\site-packages\\statsmodels\\tsa\\base\\tsa_model.py:837: ValueWarning: No supported index is available. Prediction results will be given with an integer index beginning at `start`.\n",
      "  return get_prediction_index(\n",
      "c:\\Users\\misha\\anaconda3\\envs\\portfolio_optimization\\lib\\site-packages\\statsmodels\\tsa\\base\\tsa_model.py:837: FutureWarning: No supported index is available. In the next version, calling this method in a model without a supported index will result in an exception.\n",
      "  return get_prediction_index(\n",
      "c:\\Users\\misha\\anaconda3\\envs\\portfolio_optimization\\lib\\site-packages\\statsmodels\\tsa\\base\\tsa_model.py:473: ValueWarning: A date index has been provided, but it has no associated frequency information and so will be ignored when e.g. forecasting.\n",
      "  self._init_dates(dates, freq)\n",
      "c:\\Users\\misha\\anaconda3\\envs\\portfolio_optimization\\lib\\site-packages\\statsmodels\\tsa\\base\\tsa_model.py:473: ValueWarning: A date index has been provided, but it has no associated frequency information and so will be ignored when e.g. forecasting.\n",
      "  self._init_dates(dates, freq)\n",
      "c:\\Users\\misha\\anaconda3\\envs\\portfolio_optimization\\lib\\site-packages\\statsmodels\\tsa\\base\\tsa_model.py:473: ValueWarning: A date index has been provided, but it has no associated frequency information and so will be ignored when e.g. forecasting.\n",
      "  self._init_dates(dates, freq)\n",
      "c:\\Users\\misha\\anaconda3\\envs\\portfolio_optimization\\lib\\site-packages\\statsmodels\\tsa\\base\\tsa_model.py:837: ValueWarning: No supported index is available. Prediction results will be given with an integer index beginning at `start`.\n",
      "  return get_prediction_index(\n",
      "c:\\Users\\misha\\anaconda3\\envs\\portfolio_optimization\\lib\\site-packages\\statsmodels\\tsa\\base\\tsa_model.py:837: FutureWarning: No supported index is available. In the next version, calling this method in a model without a supported index will result in an exception.\n",
      "  return get_prediction_index(\n",
      "c:\\Users\\misha\\anaconda3\\envs\\portfolio_optimization\\lib\\site-packages\\statsmodels\\tsa\\base\\tsa_model.py:473: ValueWarning: A date index has been provided, but it has no associated frequency information and so will be ignored when e.g. forecasting.\n",
      "  self._init_dates(dates, freq)\n",
      "c:\\Users\\misha\\anaconda3\\envs\\portfolio_optimization\\lib\\site-packages\\statsmodels\\tsa\\base\\tsa_model.py:473: ValueWarning: A date index has been provided, but it has no associated frequency information and so will be ignored when e.g. forecasting.\n",
      "  self._init_dates(dates, freq)\n",
      "c:\\Users\\misha\\anaconda3\\envs\\portfolio_optimization\\lib\\site-packages\\statsmodels\\tsa\\base\\tsa_model.py:473: ValueWarning: A date index has been provided, but it has no associated frequency information and so will be ignored when e.g. forecasting.\n",
      "  self._init_dates(dates, freq)\n",
      "c:\\Users\\misha\\anaconda3\\envs\\portfolio_optimization\\lib\\site-packages\\statsmodels\\tsa\\base\\tsa_model.py:837: ValueWarning: No supported index is available. Prediction results will be given with an integer index beginning at `start`.\n",
      "  return get_prediction_index(\n",
      "c:\\Users\\misha\\anaconda3\\envs\\portfolio_optimization\\lib\\site-packages\\statsmodels\\tsa\\base\\tsa_model.py:837: FutureWarning: No supported index is available. In the next version, calling this method in a model without a supported index will result in an exception.\n",
      "  return get_prediction_index(\n",
      "c:\\Users\\misha\\anaconda3\\envs\\portfolio_optimization\\lib\\site-packages\\statsmodels\\tsa\\base\\tsa_model.py:473: ValueWarning: A date index has been provided, but it has no associated frequency information and so will be ignored when e.g. forecasting.\n",
      "  self._init_dates(dates, freq)\n",
      "c:\\Users\\misha\\anaconda3\\envs\\portfolio_optimization\\lib\\site-packages\\statsmodels\\tsa\\base\\tsa_model.py:473: ValueWarning: A date index has been provided, but it has no associated frequency information and so will be ignored when e.g. forecasting.\n",
      "  self._init_dates(dates, freq)\n",
      "c:\\Users\\misha\\anaconda3\\envs\\portfolio_optimization\\lib\\site-packages\\statsmodels\\tsa\\base\\tsa_model.py:473: ValueWarning: A date index has been provided, but it has no associated frequency information and so will be ignored when e.g. forecasting.\n",
      "  self._init_dates(dates, freq)\n",
      "c:\\Users\\misha\\anaconda3\\envs\\portfolio_optimization\\lib\\site-packages\\statsmodels\\tsa\\base\\tsa_model.py:837: ValueWarning: No supported index is available. Prediction results will be given with an integer index beginning at `start`.\n",
      "  return get_prediction_index(\n",
      "c:\\Users\\misha\\anaconda3\\envs\\portfolio_optimization\\lib\\site-packages\\statsmodels\\tsa\\base\\tsa_model.py:837: FutureWarning: No supported index is available. In the next version, calling this method in a model without a supported index will result in an exception.\n",
      "  return get_prediction_index(\n"
     ]
    }
   ],
   "source": [
    "expected_returns = fc.forecast_returns_arima(norm_returns, forecast_horizon=1)\n",
    "cov_matrix = fc.compute_covariance_matrix(norm_returns)"
   ]
  },
  {
   "cell_type": "code",
   "execution_count": 43,
   "metadata": {},
   "outputs": [],
   "source": [
    "ga = cga.GeneticOptimizer(\n",
    "    pop_size=50,\n",
    "    ngen=20, \n",
    "    tourn_size=3, \n",
    "    cxpb=0.7, \n",
    "    mutpb=0.2, \n",
    "    mut_step=0.05, \n",
    "    risk_free_rate=0.0\n",
    "    )"
   ]
  },
  {
   "cell_type": "code",
   "execution_count": 44,
   "metadata": {},
   "outputs": [
    {
     "name": "stdout",
     "output_type": "stream",
     "text": [
      "Best Fitness (Sharpe): 0.009640084242135884\n",
      "Best Portfolio Allocation:\n",
      "AAPL: 0.2518\n",
      "AMZN: 0.7470\n",
      "GOOGL: 0.0012\n",
      "JPM: 0.0000\n",
      "MSFT: 0.0000\n"
     ]
    }
   ],
   "source": [
    "best_ind, best_fit, best_fits = ga.run(expected_returns, cov_matrix)"
   ]
  },
  {
   "cell_type": "code",
   "execution_count": null,
   "metadata": {},
   "outputs": [],
   "source": []
  },
  {
   "cell_type": "code",
   "execution_count": 45,
   "metadata": {},
   "outputs": [
    {
     "data": {
      "image/png": "[encoded data removed]",
      "text/plain": [
       "<Figure size 640x480 with 1 Axes>"
      ]
     },
     "metadata": {},
     "output_type": "display_data"
    }
   ],
   "source": [
    "plt.plot(best_fits)\n",
    "plt.title('Best Fitness (Sharpe) over Generations')\n",
    "plt.xlabel('Generation')\n",
    "plt.ylabel('Sharpe Ratio')\n",
    "plt.show()"
   ]
  },
  {
   "cell_type": "markdown",
   "metadata": {},
   "source": [
    "# GA Validation"
   ]
  },
  {
   "cell_type": "markdown",
   "metadata": {},
   "source": [
    "We compare the GA-optimized portfolio to a basic, naive portfolio strategy. For instance, a common benchmark is an equal-weighted portfolio, where each selected stock receives an identical allocation (e.g., if there are 5 stocks, each weight = 0.2)."
   ]
  },
  {
   "cell_type": "code",
   "execution_count": 50,
   "metadata": {},
   "outputs": [],
   "source": [
    "def sharpe_ratio(weights, expected_returns, cov_matrix, risk_free_rate=0.0):\n",
    "    # Compute portfolio return\n",
    "    port_return = np.dot(weights, expected_returns)\n",
    "    # Compute portfolio variance and volatility\n",
    "    port_variance = weights @ cov_matrix @ weights\n",
    "    port_vol = np.sqrt(port_variance) if port_variance > 0 else 1e-6\n",
    "    # Compute Sharpe ratio\n",
    "    return (port_return - risk_free_rate) / port_vol\n",
    "\n",
    "def equal_weighted_portfolio(num_stocks):\n",
    "    # Equal allocation among all selected stocks\n",
    "    return np.array([1.0 / num_stocks] * num_stocks)\n",
    "\n",
    "def validate_ga_solution(best_ind, expected_returns, cov_matrix, selected_symbols):\n",
    "    # Compute Sharpe ratio of the GA's solution\n",
    "    ga_weights = np.array(best_ind)\n",
    "    ga_sharpe = sharpe_ratio(ga_weights, expected_returns, cov_matrix)\n",
    "\n",
    "    # Compute Sharpe ratio of an equal-weighted benchmark\n",
    "    eq_weights = equal_weighted_portfolio(len(selected_symbols))\n",
    "    eq_sharpe = sharpe_ratio(eq_weights, expected_returns, cov_matrix)\n",
    "    \n",
    "    # Print results\n",
    "    print(\"\\n=== Validation Results ===\")\n",
    "    print(\"GA-Optimized Portfolio Sharpe:\", ga_sharpe)\n",
    "    print(\"Equal-Weighted Portfolio Sharpe:\", eq_sharpe)\n",
    "\n",
    "    if ga_sharpe > eq_sharpe:\n",
    "        print(\"GA solution outperforms the equal-weighted benchmark.\")\n",
    "    else:\n",
    "        print(\"Benchmark outperforms or matches the GA solution. Consider parameter tuning or re-running.\")\n"
   ]
  },
  {
   "cell_type": "code",
   "execution_count": 51,
   "metadata": {},
   "outputs": [
    {
     "name": "stdout",
     "output_type": "stream",
     "text": [
      "\n",
      "=== Validation Results ===\n",
      "GA-Optimized Portfolio Sharpe: 0.009640084242135884\n",
      "Equal-Weighted Portfolio Sharpe: -0.013765137991732842\n",
      "GA solution outperforms the equal-weighted benchmark.\n"
     ]
    }
   ],
   "source": [
    "validate_ga_solution(best_ind, expected_returns, cov_matrix, selected_symbols)"
   ]
  },
  {
   "cell_type": "code",
   "execution_count": null,
   "metadata": {},
   "outputs": [],
   "source": []
  }
 ],
 "metadata": {
  "kernelspec": {
   "display_name": "portfolio_optimization",
   "language": "python",
   "name": "python3"
  },
  "language_info": {
   "codemirror_mode": {
    "name": "ipython",
    "version": 3
   },
   "file_extension": ".py",
   "mimetype": "text/x-python",
   "name": "python",
   "nbconvert_exporter": "python",
   "pygments_lexer": "ipython3",
   "version": "3.10.16"
  }
 },
 "nbformat": 4,
 "nbformat_minor": 2
}
